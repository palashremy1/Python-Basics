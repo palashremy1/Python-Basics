{
  "nbformat": 4,
  "nbformat_minor": 0,
  "metadata": {
    "colab": {
      "provenance": []
    },
    "kernelspec": {
      "name": "python3",
      "display_name": "Python 3"
    },
    "language_info": {
      "name": "python"
    }
  },
  "cells": [
    {
      "cell_type": "markdown",
      "source": [
        "# Python Basics\n",
        "\n",
        "1. What is Python, and why is it popular?\n",
        "- Python is a high-level, interpreted programming language known for its simplicity, readability, and vast libraries, making it popular for beginners\n",
        "\n",
        "2. What is an interpreter in Python?\n",
        "- The Python interpreter executes Python code line by line, converting it into machine-readable instructions.\n",
        "\n",
        "3. What are pre-defined keywords in Python?\n",
        "- Keywords are reserved words in Python (like if, for, class) with special meanings that cannot be redefined.\n",
        "\n",
        "4. Can keywords be used as variable names?\n",
        "- No, keywords cannot be used as variable names\n",
        "\n",
        "5. What is mutability in Python?\n",
        "- Mutability means an object’s content can be changed after creation (e.g., lists).\n",
        "\n",
        "6. Why are lists mutable, but tuples are immutable?\n",
        "- Lists are designed for dynamic data modification, while tuples are fixed and hashable, making them immutable.\n",
        "\n",
        "7. What is the difference between “==” and “is” operators in Python?\n",
        "- == checks value equality, while is checks object identity (whether two variables point to the same object).\n",
        "\n",
        "8. What are logical operators in Python?\n",
        "- Logical operators are and, or, and not, used to combine or invert Boolean expressions.\n",
        "\n",
        "9. What is type casting in Python?\n",
        "- Type casting converts one data type into another, e.g., int(\"5\") to 5.\n",
        "\n",
        "10. What is the difference between implicit and explicit type casting?\n",
        "- Implicit casting is done automatically by Python, while explicit casting is manually done using functions like int(), float().\n",
        "\n",
        "11. What is the purpose of conditional statements in Python?\n",
        "- Conditional statements (if, elif, else) control program flow by executing code only if conditions are true.\n",
        "\n",
        "12. How does the elif statement work?\n",
        "- elif checks another condition if the previous if condition is false, allowing multiple condition checks.\n",
        "\n",
        "13. What is the difference between for and while loops?\n",
        "- A for loop iterates over a sequence, while a while loop runs until a condition becomes false.\n",
        "\n",
        "14. Describe a scenario where a while loop is more suitable than a for loop.\n",
        "- A while loop is better when the number of iterations is unknown, e.g., reading input until the user types \"exit\"."
      ],
      "metadata": {
        "id": "nPFtp9dL2A5A"
      }
    },
    {
      "cell_type": "code",
      "execution_count": 1,
      "metadata": {
        "colab": {
          "base_uri": "https://localhost:8080/"
        },
        "id": "6sdWcRr11zUG",
        "outputId": "3fad783d-cbc5-43a2-dae0-5bb6aac055bc"
      },
      "outputs": [
        {
          "output_type": "stream",
          "name": "stdout",
          "text": [
            "Hello, World!\n"
          ]
        }
      ],
      "source": [
        "# 1.  Write a Python program to print \"Hello, World!\n",
        "\n",
        "t = \"Hello, World!\"\n",
        "print(t)"
      ]
    },
    {
      "cell_type": "code",
      "source": [
        "# 2. Write a Python program that displays your name and age\n",
        "\n",
        "name = \"Palash Rammaiya\"\n",
        "age = 21\n",
        "print(f\"My name is {name} and I am {age} years old.\")\n"
      ],
      "metadata": {
        "colab": {
          "base_uri": "https://localhost:8080/"
        },
        "id": "XqjeT8kB4TRV",
        "outputId": "a78341ce-8e5f-4118-fca3-81008babd551"
      },
      "execution_count": 2,
      "outputs": [
        {
          "output_type": "stream",
          "name": "stdout",
          "text": [
            "My name is Palash Rammaiya and I am 21 years old.\n"
          ]
        }
      ]
    },
    {
      "cell_type": "code",
      "source": [
        "# 3. Write code to print all the pre-defined keywords in Python using the keyword library8\n",
        "\n",
        "import keyword\n",
        "print(keyword.kwlist)"
      ],
      "metadata": {
        "colab": {
          "base_uri": "https://localhost:8080/"
        },
        "id": "XseC6VZy4grN",
        "outputId": "81387987-32ee-424f-fec5-f8874de8906d"
      },
      "execution_count": 3,
      "outputs": [
        {
          "output_type": "stream",
          "name": "stdout",
          "text": [
            "['False', 'None', 'True', 'and', 'as', 'assert', 'async', 'await', 'break', 'class', 'continue', 'def', 'del', 'elif', 'else', 'except', 'finally', 'for', 'from', 'global', 'if', 'import', 'in', 'is', 'lambda', 'nonlocal', 'not', 'or', 'pass', 'raise', 'return', 'try', 'while', 'with', 'yield']\n"
          ]
        }
      ]
    },
    {
      "cell_type": "code",
      "source": [
        "# 4. Write a program that checks if a given word is a Python keyword\n",
        "\n",
        "import keyword\n",
        "word = input(\"Enter a word: \")\n",
        "print(word, \"is a keyword?\" , keyword.iskeyword(word))"
      ],
      "metadata": {
        "colab": {
          "base_uri": "https://localhost:8080/"
        },
        "id": "x4-Eex9p4z0V",
        "outputId": "c725b8ff-1d70-40fb-84c8-089b2cbc6fd3"
      },
      "execution_count": 23,
      "outputs": [
        {
          "output_type": "stream",
          "name": "stdout",
          "text": [
            "Enter a word: Palash\n",
            "Palash is a keyword? False\n"
          ]
        }
      ]
    },
    {
      "cell_type": "code",
      "source": [
        "# 5. Create a list and tuple in Python, and demonstrate how attempting to change an element works differently for each\n",
        "\n",
        "my_list = [10, 20, 30, 40]\n",
        "my_tuple = (10, 20, 30, 40)\n",
        "\n",
        "print(\"Original List:\", my_list)\n",
        "print(\"Original Tuple:\", my_tuple)\n",
        "\n",
        "my_list[2] = 99\n",
        "print(\"\\nModified List:\", my_list)\n",
        "\n",
        "my_tuple[2] = 99\n",
        "print(\"\\nModified List:\", my_tuple)"
      ],
      "metadata": {
        "colab": {
          "base_uri": "https://localhost:8080/",
          "height": 263
        },
        "id": "Dd3JSBum48pT",
        "outputId": "383049fd-033f-46a7-d047-2edf78e318bd"
      },
      "execution_count": 24,
      "outputs": [
        {
          "output_type": "stream",
          "name": "stdout",
          "text": [
            "Original List: [10, 20, 30, 40]\n",
            "Original Tuple: (10, 20, 30, 40)\n",
            "\n",
            "Modified List: [10, 20, 99, 40]\n"
          ]
        },
        {
          "output_type": "error",
          "ename": "TypeError",
          "evalue": "'tuple' object does not support item assignment",
          "traceback": [
            "\u001b[0;31m---------------------------------------------------------------------------\u001b[0m",
            "\u001b[0;31mTypeError\u001b[0m                                 Traceback (most recent call last)",
            "\u001b[0;32m/tmp/ipython-input-1127902366.py\u001b[0m in \u001b[0;36m<cell line: 0>\u001b[0;34m()\u001b[0m\n\u001b[1;32m     10\u001b[0m \u001b[0mprint\u001b[0m\u001b[0;34m(\u001b[0m\u001b[0;34m\"\\nModified List:\"\u001b[0m\u001b[0;34m,\u001b[0m \u001b[0mmy_list\u001b[0m\u001b[0;34m)\u001b[0m\u001b[0;34m\u001b[0m\u001b[0;34m\u001b[0m\u001b[0m\n\u001b[1;32m     11\u001b[0m \u001b[0;34m\u001b[0m\u001b[0m\n\u001b[0;32m---> 12\u001b[0;31m \u001b[0mmy_tuple\u001b[0m\u001b[0;34m[\u001b[0m\u001b[0;36m2\u001b[0m\u001b[0;34m]\u001b[0m \u001b[0;34m=\u001b[0m \u001b[0;36m99\u001b[0m\u001b[0;34m\u001b[0m\u001b[0;34m\u001b[0m\u001b[0m\n\u001b[0m\u001b[1;32m     13\u001b[0m \u001b[0mprint\u001b[0m\u001b[0;34m(\u001b[0m\u001b[0;34m\"\\nModified List:\"\u001b[0m\u001b[0;34m,\u001b[0m \u001b[0mmy_tuple\u001b[0m\u001b[0;34m)\u001b[0m\u001b[0;34m\u001b[0m\u001b[0;34m\u001b[0m\u001b[0m\n",
            "\u001b[0;31mTypeError\u001b[0m: 'tuple' object does not support item assignment"
          ]
        }
      ]
    },
    {
      "cell_type": "code",
      "source": [
        "# 6. Write a function to demonstrate the behavior of mutable and immutable arguments\n",
        "\n",
        "numbers = [1, 2, 3]\n",
        "num = 50\n",
        "\n",
        "print(\"Before function call:\")\n",
        "print(\"List:\", numbers)\n",
        "print(\"Number:\", num)\n",
        "\n",
        "numbers.append(100)\n",
        "num += 10\n",
        "\n",
        "print(\"\\nAfter function call:\")\n",
        "print(\"List:\", numbers)\n",
        "print(\"Number:\", num)\n"
      ],
      "metadata": {
        "colab": {
          "base_uri": "https://localhost:8080/"
        },
        "id": "ulYe6qfb5B-Y",
        "outputId": "aea4358f-d6c0-4f9a-d7f5-2f267ffc18e4"
      },
      "execution_count": 28,
      "outputs": [
        {
          "output_type": "stream",
          "name": "stdout",
          "text": [
            "Before function call:\n",
            "List: [1, 2, 3]\n",
            "Number: 50\n",
            "\n",
            "After function call:\n",
            "List: [1, 2, 3, 100]\n",
            "Number: 60\n"
          ]
        }
      ]
    },
    {
      "cell_type": "code",
      "source": [
        "# 7.  Write a program that performs basic arithmetic operations on two user-input numbers.\n",
        "\n",
        "num1 = float(input(\"Enter the first number: \"))\n",
        "num2 = float(input(\"Enter the second number: \"))\n",
        "\n",
        "print(f\"Addition: {num1 + num2}\")\n",
        "print(f\"Subtraction: {num1 - num2}\")\n",
        "print(f\"Multiplication: {num1 * num2}\")\n",
        "print(f\"Division: {num1 / num2}\")"
      ],
      "metadata": {
        "colab": {
          "base_uri": "https://localhost:8080/"
        },
        "id": "_6H3VhWr5GY6",
        "outputId": "be13078a-090d-48d8-f670-1761e2b8b30b"
      },
      "execution_count": 4,
      "outputs": [
        {
          "output_type": "stream",
          "name": "stdout",
          "text": [
            "Enter the first number: 15\n",
            "Enter the second number: 8\n",
            "Addition: 23.0\n",
            "Subtraction: 7.0\n",
            "Multiplication: 120.0\n",
            "Division: 1.875\n"
          ]
        }
      ]
    },
    {
      "cell_type": "code",
      "source": [
        "# 8. Write a program to demonstrate the use of logical operators\n",
        "\n",
        "x, y = True, False\n",
        "print(\"x and y:\", x and y)\n",
        "print(\"x or y:\", x or y)\n",
        "print(\"not x:\", not x)"
      ],
      "metadata": {
        "colab": {
          "base_uri": "https://localhost:8080/"
        },
        "id": "I18OeUPY5c8V",
        "outputId": "ba42846a-3cf4-4772-f803-cd4d7d8d1136"
      },
      "execution_count": 5,
      "outputs": [
        {
          "output_type": "stream",
          "name": "stdout",
          "text": [
            "x and y: False\n",
            "x or y: True\n",
            "not x: False\n"
          ]
        }
      ]
    },
    {
      "cell_type": "code",
      "source": [
        "# 9. Write a Python program to convert user input from string to integer, float, and boolean types.\n",
        "\n",
        "data = input(\"Enter a value: \")\n",
        "print(\"As integer:\", int(data))\n",
        "print(\"As float:\", float(data))\n",
        "print(\"As boolean:\", bool(data))"
      ],
      "metadata": {
        "colab": {
          "base_uri": "https://localhost:8080/"
        },
        "id": "m0UPNWEL5uMD",
        "outputId": "94ef1dac-2ead-4cee-8c7e-7db522565080"
      },
      "execution_count": 7,
      "outputs": [
        {
          "output_type": "stream",
          "name": "stdout",
          "text": [
            "Enter a value: 14\n",
            "As integer: 14\n",
            "As float: 14.0\n",
            "As boolean: True\n"
          ]
        }
      ]
    },
    {
      "cell_type": "code",
      "source": [
        "# 10. Write code to demonstrate type casting with list elements\n",
        "\n",
        "nums = [\"1\", \"2\", \"3\"]\n",
        "nums_int = [int(x) for x in nums]\n",
        "print(nums_int)"
      ],
      "metadata": {
        "colab": {
          "base_uri": "https://localhost:8080/"
        },
        "id": "CoW4IYkE6J2S",
        "outputId": "dc7476a9-64bb-4eb0-b24a-35d82d48a271"
      },
      "execution_count": 22,
      "outputs": [
        {
          "output_type": "stream",
          "name": "stdout",
          "text": [
            "[1, 2, 3]\n"
          ]
        }
      ]
    },
    {
      "cell_type": "code",
      "source": [
        "# 11.  Write a program that checks if a number is positive, negative, or zero\n",
        "\n",
        "num = int(input(\"Enter a number: \"))\n",
        "if num > 0:\n",
        "  print(\"Number is Postive\")\n",
        "elif num < 0:\n",
        "  print(\"Number is Negative\")\n",
        "else:\n",
        "  print(\"Number is Zero\")"
      ],
      "metadata": {
        "colab": {
          "base_uri": "https://localhost:8080/"
        },
        "id": "98XdJchV6bwB",
        "outputId": "114a6893-e9e7-4d22-daec-b9d49dda7d78"
      },
      "execution_count": 11,
      "outputs": [
        {
          "output_type": "stream",
          "name": "stdout",
          "text": [
            "Enter a number: 5\n",
            "Number is Postive\n"
          ]
        }
      ]
    },
    {
      "cell_type": "code",
      "source": [
        "# 12.  Write a for loop to print numbers from 1 to 10.\n",
        "\n",
        "for i in range (0,11):\n",
        "  print(i)"
      ],
      "metadata": {
        "colab": {
          "base_uri": "https://localhost:8080/"
        },
        "id": "kNzimbdV7FrN",
        "outputId": "649761fa-503f-4182-c9be-a8e689da8be4"
      },
      "execution_count": 14,
      "outputs": [
        {
          "output_type": "stream",
          "name": "stdout",
          "text": [
            "0\n",
            "1\n",
            "2\n",
            "3\n",
            "4\n",
            "5\n",
            "6\n",
            "7\n",
            "8\n",
            "9\n",
            "10\n"
          ]
        }
      ]
    },
    {
      "cell_type": "code",
      "source": [
        "#13. Write a Python program to find the sum of all even numbers between 1 and 50.\n",
        "\n",
        "total = 0\n",
        "for i in range (0,51):\n",
        "  total += i\n",
        "print(total)"
      ],
      "metadata": {
        "colab": {
          "base_uri": "https://localhost:8080/"
        },
        "id": "93pwPCs67Xcs",
        "outputId": "fc5816ab-4f07-430a-fc41-fca08225c6bb"
      },
      "execution_count": 19,
      "outputs": [
        {
          "output_type": "stream",
          "name": "stdout",
          "text": [
            "1275\n"
          ]
        }
      ]
    },
    {
      "cell_type": "code",
      "source": [
        "# 14. Write a program to reverse a string using a while loop.\n",
        "\n",
        "s = input(\"Enter a string: \")\n",
        "rev = \"\"\n",
        "i = len(s) - 1\n",
        "while i >= 0:\n",
        "    rev += s[i]\n",
        "    i -= 1\n",
        "print(\"Reversed string:\", rev)"
      ],
      "metadata": {
        "colab": {
          "base_uri": "https://localhost:8080/"
        },
        "id": "IPLgTY7Y7-WS",
        "outputId": "efa1addf-e7fd-4521-9c9c-33d4511bce5c"
      },
      "execution_count": 20,
      "outputs": [
        {
          "output_type": "stream",
          "name": "stdout",
          "text": [
            "Enter a string: Palash\n",
            "Reversed string: hsalaP\n"
          ]
        }
      ]
    },
    {
      "cell_type": "code",
      "source": [
        "# 15.  Write a Python program to calculate the factorial of a number provided by the user using a while loop\n",
        "\n",
        "num = int(input(\"Enter a number: \"))\n",
        "fact = 1\n",
        "i = 1\n",
        "while i <= num:\n",
        "    fact *= i\n",
        "    i += 1\n",
        "print(\"Factorial:\", fact)"
      ],
      "metadata": {
        "colab": {
          "base_uri": "https://localhost:8080/"
        },
        "id": "row0bht-8n-A",
        "outputId": "2f2f4885-5a11-47a5-cb32-e5660a99b72a"
      },
      "execution_count": 21,
      "outputs": [
        {
          "output_type": "stream",
          "name": "stdout",
          "text": [
            "Enter a number: 5\n",
            "Factorial: 120\n"
          ]
        }
      ]
    }
  ]
}